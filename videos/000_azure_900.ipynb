{
 "cells": [
  {
   "cell_type": "markdown",
   "metadata": {},
   "source": [
    "# Azure 900 \n",
    "This is a certification for Azure fundamentals. The courses for this certification include fundamental concepts: cloud concepts, Azure architectire and services, and Azure management and governance.\n",
    "\n",
    "Link to the video: https://www.youtube.com/playlist?list=PLGjZwEtPN7j-Q59JYso3L4_yoCjj2syrM by Adam Marczak"
   ]
  },
  {
   "cell_type": "markdown",
   "metadata": {},
   "source": [
    "# EP1: Overview\n",
    "# Course path overview\n",
    "\n",
    "- Difficulty: Beginner\n",
    "- Audience: beginning in cloud journey or moving from other public cloud vendors\n",
    "\n",
    "- Prerequisites: None\n",
    "\n",
    "# Skills Covered (with exam measures):\n",
    "- Cloud concepts 15-20%\n",
    "- Security and privacy 30-35%\n",
    "- Core Azure services 25-30%\n",
    "- Azure pricing and support 20-25%\n",
    "\n",
    "Study guide and highlights could be found https://marczak.io/az-900\n"
   ]
  }
 ],
 "metadata": {
  "language_info": {
   "name": "python"
  }
 },
 "nbformat": 4,
 "nbformat_minor": 2
}
