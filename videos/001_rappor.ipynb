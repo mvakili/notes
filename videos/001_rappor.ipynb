{
 "cells": [
  {
   "cell_type": "markdown",
   "metadata": {},
   "source": [
    "# RAPPOR: large scale randomized reporting algorithm\n",
    "# https://www.youtube.com/watch?v=tuOBz5AzivM\n",
    "\n",
    "Motivation: (Not) Hijacking chrome settings for statistical analysis.\n",
    "\n",
    "Find popularity of page, and check websites technologies (e.g. Silverlight) without accessing to user's homepage. all by differencial privacy techniques.\n",
    "\n",
    "Methaphore of RAPPOR:\n",
    "adding small amount of noise to individuals's data, without loosing the big picture. User privacy is preserved.\n",
    "\n",
    "\n",
    "Cannot be applied to all use cases:\n",
    "- When accuracy matters\n",
    "\n",
    "What RAPPOR provides:\n",
    "- Privacy guarantees for user needed\n",
    "- No central database (Hackable)\n",
    "- User's privacy is not dependent on a trusted third party\n",
    "- No privacy externalities (ID is not exposed)\n",
    "\n",
    "Well suited for:\n",
    "- Sensitive usser data (e.g. URLS)\n",
    "\n",
    "Lets dive into RAPPOR (Outline):\n",
    "\n",
    "# 1 - Randomize response\n",
    " Invented in 1960 for sensitive surveys (Are you or have you been communist?).\n",
    " - Flip a coin in private\n",
    " - If head tell the truth\n",
    " - If tail, flip again\n",
    " - if tail say No, if head say Yes\n",
    "\n",
    "In other version:\n",
    " e.g. 0 0 0 1 0 1 1 0 1 0 1 0\n",
    " The bit vector represents salary ranges, user adds a randmoized response instead of 1 bit of an array. In the big picture the shape of statistics is preserved.\n",
    "\n",
    "\n",
    " The main challange is the data structure in chrome because urls are not structured in the same way. \n",
    "\n",
    "\n",
    "# 2 - RAPPOR 2-level randomization\n",
    "1. Go bck to communist question. If you ask the question repeatedly, it could reveal your real answer the moment user's real response by applying  averagin attack.\n",
    "\n",
    "2. Memoizing response would prevent averaging attack since the answer is always the same. Meaning that we keep the answers as binary vector in user's database. The challenge with this approach is that after a while the sequence of data would become uniqe tracking ID of the user.\n",
    "\n",
    "3. Randomizing memoized response would give totally randomize vector of bits. With the randomized response no pattern would be detected based on the sequence of bits.\n",
    "\n",
    "Depending the amount of noise you add, we can have a good balance between privacy and accuracy."
   ]
  },
  {
   "cell_type": "markdown",
   "metadata": {},
   "source": [
    "1. Hash Actual value v into Bloomfilter B using h hash function.\n",
    "2. Memoize Bi into Bi'\n",
    "    - Bi' = 1 with probability 1/2 f\n",
    "    - Bi' = 0 with probability 1/2 f\n",
    "    - Bi' = Bi with probability 1 - f\n",
    "3. instantaneous randomized response:\n",
    "    - P(Si = 1) = q if Bi' = 1 + p if Bi' = 0\n"
   ]
  },
  {
   "cell_type": "markdown",
   "metadata": {},
   "source": [
    "# Growing pains\n",
    "- Challenges of transitioning from a research prototype to a real product\n",
    "- Scalability when hit the critical mass\n",
    "- Versionin at the same time\n",
    "\n"
   ]
  }
 ],
 "metadata": {
  "language_info": {
   "name": "python"
  }
 },
 "nbformat": 4,
 "nbformat_minor": 2
}
