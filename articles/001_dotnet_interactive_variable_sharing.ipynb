{
 "cells": [
  {
   "cell_type": "markdown",
   "metadata": {},
   "source": [
    "# Variable sharing in .NET Interactive\n",
    "\n",
    "Link to the article: https://github.com/dotnet/interactive/blob/main/docs/variable-sharing.md"
   ]
  },
  {
   "cell_type": "markdown",
   "metadata": {},
   "source": [
    ".NET interactive supports multiple language working together in the same interactive session. This allows you to share variables across multiple languages.  `#!set` magic command allows you to share a variable from one language to another. "
   ]
  },
  {
   "cell_type": "markdown",
   "metadata": {},
   "source": [
    "`#!set` allows you to set a variable from the command line.\n",
    "Example:"
   ]
  },
  {
   "cell_type": "code",
   "execution_count": 1,
   "metadata": {
    "dotnet_interactive": {
     "language": "csharp"
    },
    "polyglot_notebook": {
     "kernelName": "csharp"
    },
    "vscode": {
     "languageId": "polyglot-notebook"
    }
   },
   "outputs": [
    {
     "name": "stdout",
     "output_type": "stream",
     "text": [
      "https://www.google.com\n"
     ]
    }
   ],
   "source": [
    "#!set --name url --value https://www.google.com\n",
    "\n",
    "Console.WriteLine(url);"
   ]
  },
  {
   "cell_type": "markdown",
   "metadata": {},
   "source": [
    "Passing value between kernels using different languages is possible. For example, you can get a user input in the Powershell language and pass it to the C# language. \n",
    "Example:"
   ]
  },
  {
   "cell_type": "code",
   "execution_count": 6,
   "metadata": {
    "dotnet_interactive": {
     "language": "pwsh"
    },
    "polyglot_notebook": {
     "kernelName": "pwsh"
    },
    "vscode": {
     "languageId": "polyglot-notebook"
    }
   },
   "outputs": [
    {
     "name": "stdout",
     "output_type": "stream",
     "text": [
      "path is: C:\\Windows\\System32!\n"
     ]
    }
   ],
   "source": [
    "$path = Read-Host \"Enter path\" # user enters \"C:\\Windows\\System32\"\n",
    "Write-Host \"path is: $path!\""
   ]
  },
  {
   "cell_type": "code",
   "execution_count": 7,
   "metadata": {
    "dotnet_interactive": {
     "language": "csharp"
    },
    "polyglot_notebook": {
     "kernelName": "csharp"
    },
    "vscode": {
     "languageId": "polyglot-notebook"
    }
   },
   "outputs": [
    {
     "name": "stdout",
     "output_type": "stream",
     "text": [
      "C:\\Windows\\System32\n"
     ]
    }
   ],
   "source": [
    "#!set --name pwshPath --value @pwsh:path\n",
    "\n",
    "Console.WriteLine(pwshPath)"
   ]
  },
  {
   "cell_type": "markdown",
   "metadata": {},
   "source": [
    "Defining a variable directly using `#!value` allows you to directly set a value for for the kernel without using target language syntax in a language agnostic way. Setting a variable along with mime-type, lets value to be converted to an appropriate format in the target language.\n",
    "\n",
    "Example:"
   ]
  },
  {
   "cell_type": "code",
   "execution_count": 8,
   "metadata": {
    "dotnet_interactive": {
     "language": "csharp"
    },
    "polyglot_notebook": {
     "kernelName": "csharp"
    },
    "vscode": {
     "languageId": "polyglot-notebook"
    }
   },
   "outputs": [
    {
     "data": {
      "application/json": {
       "age": 24,
       "name": "John"
      }
     },
     "metadata": {},
     "output_type": "display_data"
    }
   ],
   "source": [
    "#!value --name randomJson --mime-type application/json\n",
    "{\n",
    "    \"name\": \"John\",\n",
    "    \"age\": 24\n",
    "}"
   ]
  },
  {
   "cell_type": "code",
   "execution_count": 9,
   "metadata": {
    "dotnet_interactive": {
     "language": "javascript"
    },
    "polyglot_notebook": {
     "kernelName": "javascript"
    },
    "vscode": {
     "languageId": "polyglot-notebook"
    }
   },
   "outputs": [
    {
     "data": {
      "application/json": {
       "age": 24,
       "name": "John"
      }
     },
     "metadata": {},
     "output_type": "display_data"
    }
   ],
   "source": [
    "#!set --name randomJson --value @value:randomJson\n",
    "console.log(randomJson)"
   ]
  },
  {
   "cell_type": "markdown",
   "metadata": {},
   "source": [
    "There are other ways to define a variable.\n",
    "- `#!value --from-file [path]` to read a value from a file\n",
    "- `#!value --from-url [url]` to read a value from a URL\n",
    "- `#!value --from-value [value]` to set a value directly. It's equal to `#!set --value`\n"
   ]
  }
 ],
 "metadata": {
  "language_info": {
   "name": "python"
  }
 },
 "nbformat": 4,
 "nbformat_minor": 2
}
