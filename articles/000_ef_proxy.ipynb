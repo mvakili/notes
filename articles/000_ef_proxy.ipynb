{
 "cells": [
  {
   "cell_type": "markdown",
   "metadata": {},
   "source": [
    "# Working with proxies in EF Core\n",
    "Link to the article: https://learn.microsoft.com/en-us/ef/ef6/fundamentals/proxies"
   ]
  },
  {
   "cell_type": "markdown",
   "metadata": {},
   "source": [
    "## What is a proxy? \n",
    "When creating instances of POCO entity types, Entity Framework often creates instances of a dynamically generated derived type that acts as a proxy for the entity. This proxy overrides some virtual properties of the entity to insert hooks for performing actions automatically when the property is accessed."
   ]
  },
  {
   "cell_type": "code",
   "execution_count": 23,
   "metadata": {
    "dotnet_interactive": {
     "language": "csharp"
    },
    "polyglot_notebook": {
     "kernelName": "csharp"
    },
    "vscode": {
     "languageId": "polyglot-notebook"
    }
   },
   "outputs": [
    {
     "data": {
      "text/html": [
       "<div><div></div><div></div><div><strong>Installed Packages</strong><ul><li><span>Microsoft.EntityFrameworkCore, 7.0.0</span></li><li><span>Microsoft.EntityFrameworkCore.InMemory, 7.0.0</span></li><li><span>Microsoft.EntityFrameworkCore.Proxies, 7.0.0</span></li></ul></div></div>"
      ]
     },
     "metadata": {},
     "output_type": "display_data"
    }
   ],
   "source": [
    "#r \"nuget: Microsoft.EntityFrameworkCore, 7.0.0\"\n",
    "#r \"nuget: Microsoft.EntityFrameworkCore.Proxies, 7.0.0\"\n",
    "#r \"nuget: Microsoft.EntityFrameworkCore.InMemory, 7.0.0\""
   ]
  },
  {
   "cell_type": "code",
   "execution_count": 24,
   "metadata": {
    "dotnet_interactive": {
     "language": "csharp"
    },
    "polyglot_notebook": {
     "kernelName": "csharp"
    },
    "vscode": {
     "languageId": "polyglot-notebook"
    }
   },
   "outputs": [],
   "source": [
    "using Microsoft.EntityFrameworkCore;\n",
    "using Microsoft.Extensions.Logging;\n",
    "using System;\n",
    "using System.Reflection;\n",
    "\n",
    "public class Post {\n",
    "    public int Id {get; set;}\n",
    "}"
   ]
  },
  {
   "cell_type": "code",
   "execution_count": 27,
   "metadata": {
    "dotnet_interactive": {
     "language": "csharp"
    },
    "polyglot_notebook": {
     "kernelName": "csharp"
    },
    "vscode": {
     "languageId": "polyglot-notebook"
    }
   },
   "outputs": [
    {
     "name": "stdout",
     "output_type": "stream",
     "text": [
      "Post\n"
     ]
    }
   ],
   "source": [
    "// Db context without proxy\n",
    "public class DefaultContext : DbContext\n",
    "{\n",
    "    protected override void OnConfiguring(DbContextOptionsBuilder optionsBuilder) {\n",
    "        optionsBuilder\n",
    "            .UseInMemoryDatabase(\"default\");\n",
    "    }\n",
    "\n",
    "    protected override void OnModelCreating(ModelBuilder modelBuilder) {\n",
    "        base.OnModelCreating(modelBuilder);\n",
    "\n",
    "        modelBuilder.Entity<Post>().HasData(\n",
    "            new Post { Id = 1},\n",
    "            new Post { Id = 2}\n",
    "        );\n",
    "    }\n",
    "    public DbSet<Post> Posts { get; set; }\n",
    "}\n",
    "\n",
    "{\n",
    "    using DefaultContext context = new DefaultContext();\n",
    "    context.Database.EnsureDeleted();\n",
    "    context.Database.EnsureCreated();\n",
    "    \n",
    "    var post = context.Posts.FirstOrDefault();\n",
    "\n",
    "    Console.WriteLine(post.GetType().Name ?? \"No post found\");\n",
    "}"
   ]
  },
  {
   "cell_type": "code",
   "execution_count": 28,
   "metadata": {
    "dotnet_interactive": {
     "language": "csharp"
    },
    "polyglot_notebook": {
     "kernelName": "csharp"
    },
    "vscode": {
     "languageId": "polyglot-notebook"
    }
   },
   "outputs": [
    {
     "name": "stdout",
     "output_type": "stream",
     "text": [
      "Proxy type: PostProxy_4\n",
      "Base type: Post\n"
     ]
    }
   ],
   "source": [
    "// Db context with lazy loading proxy\n",
    "public class LazyLoadedContext : DbContext\n",
    "{\n",
    "    protected override void OnConfiguring(DbContextOptionsBuilder optionsBuilder) {\n",
    "        optionsBuilder\n",
    "            .UseLazyLoadingProxies()\n",
    "            .UseInMemoryDatabase(\"lazy\");\n",
    "    }\n",
    "\n",
    "    protected override void OnModelCreating(ModelBuilder modelBuilder) {\n",
    "        base.OnModelCreating(modelBuilder);\n",
    "\n",
    "        modelBuilder.Entity<Post>().HasData(\n",
    "            new Post { Id = 1},\n",
    "            new Post { Id = 2}\n",
    "        );\n",
    "    }\n",
    "    public DbSet<Post> Posts { get; set; }\n",
    "}\n",
    "\n",
    "{\n",
    "    using LazyLoadedContext context = new LazyLoadedContext();\n",
    "    context.Database.EnsureDeleted();\n",
    "    context.Database.EnsureCreated();\n",
    "    \n",
    "    var post = context.Posts.FirstOrDefault();\n",
    "\n",
    "    Console.WriteLine($\"Proxy type: {post.GetType().Name}\");\n",
    "    Console.WriteLine($\"Base type: {post.GetType().BaseType.Name}\");\n",
    "}"
   ]
  }
 ],
 "metadata": {
  "language_info": {
   "name": "python"
  }
 },
 "nbformat": 4,
 "nbformat_minor": 2
}
